{
  "cells": [
    {
      "cell_type": "markdown",
      "metadata": {
        "id": "view-in-github",
        "colab_type": "text"
      },
      "source": [
        "<a href=\"https://colab.research.google.com/github/Yousefalmutairi91/chatbot/blob/main/Chatbot_Notebook.ipynb\" target=\"_parent\"><img src=\"https://colab.research.google.com/assets/colab-badge.svg\" alt=\"Open In Colab\"/></a>"
      ]
    },
    {
      "cell_type": "markdown",
      "metadata": {
        "id": "NfyuQXomX5Am"
      },
      "source": [
        "### Import Library"
      ]
    },
    {
      "cell_type": "code",
      "execution_count": 3,
      "metadata": {
        "colab": {
          "base_uri": "https://localhost:8080/"
        },
        "id": "nok50e3qYPdI",
        "outputId": "5dd62339-ceab-4dc1-8f41-79b24cb810b7"
      },
      "outputs": [
        {
          "output_type": "stream",
          "name": "stdout",
          "text": [
            "Looking in indexes: https://pypi.org/simple, https://us-python.pkg.dev/colab-wheels/public/simple/\n",
            "Requirement already satisfied: chatterbot in /usr/local/lib/python3.8/dist-packages (1.0.5)\n",
            "Requirement already satisfied: nltk<4.0,>=3.2 in /usr/local/lib/python3.8/dist-packages (from chatterbot) (3.7)\n",
            "Requirement already satisfied: mathparse<0.2,>=0.1 in /usr/local/lib/python3.8/dist-packages (from chatterbot) (0.1.2)\n",
            "Requirement already satisfied: sqlalchemy<1.3,>=1.2 in /usr/local/lib/python3.8/dist-packages (from chatterbot) (1.2.19)\n",
            "Requirement already satisfied: python-dateutil<2.8,>=2.7 in /usr/local/lib/python3.8/dist-packages (from chatterbot) (2.7.5)\n",
            "Requirement already satisfied: pyyaml<5.2,>=5.1 in /usr/local/lib/python3.8/dist-packages (from chatterbot) (5.1.2)\n",
            "Requirement already satisfied: pint>=0.8.1 in /usr/local/lib/python3.8/dist-packages (from chatterbot) (0.20.1)\n",
            "Requirement already satisfied: pytz in /usr/local/lib/python3.8/dist-packages (from chatterbot) (2022.7)\n",
            "Requirement already satisfied: pymongo<4.0,>=3.3 in /usr/local/lib/python3.8/dist-packages (from chatterbot) (3.13.0)\n",
            "Requirement already satisfied: spacy<2.2,>=2.1 in /usr/local/lib/python3.8/dist-packages (from chatterbot) (2.1.9)\n",
            "Requirement already satisfied: click in /usr/local/lib/python3.8/dist-packages (from nltk<4.0,>=3.2->chatterbot) (7.1.2)\n",
            "Requirement already satisfied: regex>=2021.8.3 in /usr/local/lib/python3.8/dist-packages (from nltk<4.0,>=3.2->chatterbot) (2022.6.2)\n",
            "Requirement already satisfied: joblib in /usr/local/lib/python3.8/dist-packages (from nltk<4.0,>=3.2->chatterbot) (1.2.0)\n",
            "Requirement already satisfied: tqdm in /usr/local/lib/python3.8/dist-packages (from nltk<4.0,>=3.2->chatterbot) (4.64.1)\n",
            "Requirement already satisfied: six>=1.5 in /usr/local/lib/python3.8/dist-packages (from python-dateutil<2.8,>=2.7->chatterbot) (1.15.0)\n",
            "Requirement already satisfied: srsly<1.1.0,>=0.0.6 in /usr/local/lib/python3.8/dist-packages (from spacy<2.2,>=2.1->chatterbot) (1.0.6)\n",
            "Requirement already satisfied: murmurhash<1.1.0,>=0.28.0 in /usr/local/lib/python3.8/dist-packages (from spacy<2.2,>=2.1->chatterbot) (1.0.9)\n",
            "Requirement already satisfied: thinc<7.1.0,>=7.0.8 in /usr/local/lib/python3.8/dist-packages (from spacy<2.2,>=2.1->chatterbot) (7.0.8)\n",
            "Requirement already satisfied: numpy>=1.15.0 in /usr/local/lib/python3.8/dist-packages (from spacy<2.2,>=2.1->chatterbot) (1.21.6)\n",
            "Requirement already satisfied: blis<0.3.0,>=0.2.2 in /usr/local/lib/python3.8/dist-packages (from spacy<2.2,>=2.1->chatterbot) (0.2.4)\n",
            "Requirement already satisfied: preshed<2.1.0,>=2.0.1 in /usr/local/lib/python3.8/dist-packages (from spacy<2.2,>=2.1->chatterbot) (2.0.1)\n",
            "Requirement already satisfied: plac<1.0.0,>=0.9.6 in /usr/local/lib/python3.8/dist-packages (from spacy<2.2,>=2.1->chatterbot) (0.9.6)\n",
            "Requirement already satisfied: requests<3.0.0,>=2.13.0 in /usr/local/lib/python3.8/dist-packages (from spacy<2.2,>=2.1->chatterbot) (2.25.1)\n",
            "Requirement already satisfied: wasabi<1.1.0,>=0.2.0 in /usr/local/lib/python3.8/dist-packages (from spacy<2.2,>=2.1->chatterbot) (0.10.1)\n",
            "Requirement already satisfied: cymem<2.1.0,>=2.0.2 in /usr/local/lib/python3.8/dist-packages (from spacy<2.2,>=2.1->chatterbot) (2.0.7)\n",
            "Requirement already satisfied: urllib3<1.27,>=1.21.1 in /usr/local/lib/python3.8/dist-packages (from requests<3.0.0,>=2.13.0->spacy<2.2,>=2.1->chatterbot) (1.24.3)\n",
            "Requirement already satisfied: chardet<5,>=3.0.2 in /usr/local/lib/python3.8/dist-packages (from requests<3.0.0,>=2.13.0->spacy<2.2,>=2.1->chatterbot) (4.0.0)\n",
            "Requirement already satisfied: certifi>=2017.4.17 in /usr/local/lib/python3.8/dist-packages (from requests<3.0.0,>=2.13.0->spacy<2.2,>=2.1->chatterbot) (2022.12.7)\n",
            "Requirement already satisfied: idna<3,>=2.5 in /usr/local/lib/python3.8/dist-packages (from requests<3.0.0,>=2.13.0->spacy<2.2,>=2.1->chatterbot) (2.10)\n"
          ]
        }
      ],
      "source": [
        "!pip install chatterbot\n"
      ]
    },
    {
      "cell_type": "code",
      "execution_count": 16,
      "metadata": {
        "id": "sWpBuGjjX5Ax"
      },
      "outputs": [],
      "source": [
        " from chatterbot import ChatBot\n",
        " from chatterbot.trainers import ChatterBotCorpusTrainer\n",
        "#!pip install chatterbot-corpus\n"
      ]
    },
    {
      "cell_type": "markdown",
      "metadata": {
        "id": "TFzBfrV9X5Az"
      },
      "source": [
        "### Create a chatbot instance\n",
        "\n",
        "We will create a chatbot instance, name our bot as 'Buddy' and specify **read_only** to **True** because we only want our chatbot to learn from our training data."
      ]
    },
    {
      "cell_type": "code",
      "execution_count": 17,
      "metadata": {
        "id": "LCit1BWsX5A1",
        "colab": {
          "base_uri": "https://localhost:8080/"
        },
        "outputId": "886fe651-8303-499e-87ac-a0c540d70586"
      },
      "outputs": [
        {
          "output_type": "stream",
          "name": "stderr",
          "text": [
            "[nltk_data] Downloading package stopwords to /root/nltk_data...\n",
            "[nltk_data]   Unzipping corpora/stopwords.zip.\n",
            "[nltk_data] Downloading package wordnet to /root/nltk_data...\n",
            "[nltk_data] Downloading package averaged_perceptron_tagger to\n",
            "[nltk_data]     /root/nltk_data...\n",
            "[nltk_data]   Unzipping taggers/averaged_perceptron_tagger.zip.\n"
          ]
        }
      ],
      "source": [
        "bot = ChatBot('Buddy', read_only = True)"
      ]
    },
    {
      "cell_type": "markdown",
      "metadata": {
        "id": "P-Lich_6X5A2"
      },
      "source": [
        "### Training the chatbot\n",
        "\n",
        "Import the **ListTrainer** module, instantiating it by passing the chatbot object (**Buddy**) and calling the **train()** method to pass a list of sentences."
      ]
    },
    {
      "cell_type": "code",
      "execution_count": 18,
      "metadata": {
        "id": "iwysYfjEX5A3"
      },
      "outputs": [],
      "source": [
        "from chatterbot.trainers import ListTrainer"
      ]
    },
    {
      "cell_type": "code",
      "execution_count": 19,
      "metadata": {
        "id": "-GFHh9McX5A3",
        "outputId": "d0e78f16-1420-428c-a108-97c9019db4a9",
        "colab": {
          "base_uri": "https://localhost:8080/"
        }
      },
      "outputs": [
        {
          "output_type": "stream",
          "name": "stdout",
          "text": [
            "\rList Trainer: [##                  ] 11%"
          ]
        },
        {
          "output_type": "stream",
          "name": "stderr",
          "text": [
            "/usr/local/lib/python3.8/dist-packages/chatterbot/corpus.py:38: YAMLLoadWarning: calling yaml.load() without Loader=... is deprecated, as the default Loader is unsafe. Please read https://msg.pyyaml.org/load for full details.\n",
            "  return yaml.load(data_file)\n"
          ]
        },
        {
          "output_type": "stream",
          "name": "stdout",
          "text": [
            "List Trainer: [####################] 100%\n",
            "List Trainer: [####################] 100%\n"
          ]
        }
      ],
      "source": [
        "trainer = ListTrainer(bot)\n",
        "\n",
        "trainer.train([\n",
        "    \"Hi, can I help you\",\n",
        "    \"Who are you?\",\n",
        "    \"I am your virtual assistant. Ask me any questions...\",\n",
        "    \"Where do you operate?\",\n",
        "    \"We operate from Singapore\",\n",
        "    \"What payment methods do you accept?\",\n",
        "    \"We accept debit cards and major credit cards\",\n",
        "    \"I would like to speak to your customer service agent\",\n",
        "    \"please call +65 3333 3333. Our operating hours are from 9am to 5pm, Monday to Friday\"\n",
        "    \n",
        "])\n",
        "\n",
        "trainer.train([\n",
        "    \"What payment methods do you offer?\",\n",
        "    \"We accept debit cards and major credit cards\",\n",
        "    \"How to contact customer service agent\",\n",
        "    \"please call +65 3333 3333. Our operating hours are from 9am to 5pm, Monday to Friday\"\n",
        "    \n",
        "])"
      ]
    },
    {
      "cell_type": "markdown",
      "metadata": {
        "id": "ruG4mRrmX5A5"
      },
      "source": [
        "### Chatbot testing\n",
        "\n",
        "Test chatbot out by feeding the chatbot with an input statement."
      ]
    },
    {
      "cell_type": "code",
      "execution_count": 20,
      "metadata": {
        "id": "I-TqGMd2X5A6",
        "outputId": "ebf9a4d4-d847-4079-946f-1b26bc1c6610",
        "colab": {
          "base_uri": "https://localhost:8080/"
        }
      },
      "outputs": [
        {
          "output_type": "stream",
          "name": "stdout",
          "text": [
            "We accept debit cards and major credit cards\n"
          ]
        }
      ],
      "source": [
        "response = bot.get_response ('payment method')\n",
        "print(response)"
      ]
    },
    {
      "cell_type": "markdown",
      "metadata": {
        "id": "BTZ-lhXfX5A7"
      },
      "source": [
        "We can also use **while loop** with **get_response()** method to get our chatbot to respond to each of our queries continuously. We put an end to the loop and stop the program when we get **'Bye'** or **'bye'** statement from the user."
      ]
    },
    {
      "cell_type": "code",
      "execution_count": 21,
      "metadata": {
        "id": "gTfjgvbiX5A9",
        "outputId": "6724e3b8-e6be-4ce9-875a-bdbfba91d2c9",
        "colab": {
          "base_uri": "https://localhost:8080/"
        }
      },
      "outputs": [
        {
          "output_type": "stream",
          "name": "stdout",
          "text": [
            "Enter Your Name: Yousef\n",
            "Welcome to Chatbot Service! Let me know how can I help you\n",
            "Yousef:What payment method do you offer?\n",
            "Bot:  We accept debit cards and major credit cards\n",
            "Yousef:Do you accept Mada cards?\n",
            "Bot:  We accept debit cards and major credit cards\n",
            "Yousef:Who are you?\n",
            "Bot:  I am your virtual assistant. Ask me any questions...\n",
            "Yousef:How old are you?\n",
            "Bot:  How to contact customer service agent\n",
            "Yousef:Where do you operate from?\n",
            "Bot:  We operate from Singapore\n",
            "Yousef:where is in Singapore?\n",
            "Bot:  What payment methods do you accept?\n",
            "Yousef:I would like to speak to your customer service agent\n",
            "Bot:  please call +65 3333 3333. Our operating hours are from 9am to 5pm, Monday to Friday\n",
            "Yousef:Hello\n",
            "Bot:  please call +65 3333 3333. Our operating hours are from 9am to 5pm, Monday to Friday\n",
            "Yousef:stop\n",
            "Bot:  I am your virtual assistant. Ask me any questions...\n",
            "Yousef:Bye\n",
            "Bot: Bye\n"
          ]
        }
      ],
      "source": [
        "name = input('Enter Your Name: ')\n",
        "\n",
        "print ('Welcome to Chatbot Service! Let me know how can I help you')\n",
        "\n",
        "while True:\n",
        "    \n",
        "    request = input(name+':')\n",
        "    \n",
        "    if request==\"Bye\" or request=='bye':\n",
        "        print('Bot: Bye')\n",
        "        break\n",
        "    else:\n",
        "        response=bot.get_response(request)\n",
        "        print('Bot: ', response)"
      ]
    },
    {
      "cell_type": "markdown",
      "metadata": {
        "id": "LzaXs3vCX5A-"
      },
      "source": [
        "### Corpus data training\n",
        "\n",
        "We can quickly train our chatbot to communicate using the availability of corpus data and utility module. Here we will use English corpus data to train our chatbot to communicate in English."
      ]
    },
    {
      "cell_type": "code",
      "execution_count": 22,
      "metadata": {
        "id": "1Swsm9aRX5A_",
        "outputId": "38898895-b2ca-4155-d0fe-735f5ddefbe7",
        "colab": {
          "base_uri": "https://localhost:8080/"
        }
      },
      "outputs": [
        {
          "output_type": "stream",
          "name": "stdout",
          "text": [
            "Training ai.yml: [####################] 100%\n",
            "Training botprofile.yml: [####################] 100%\n",
            "Training computers.yml: [####################] 100%\n",
            "Training conversations.yml: [####################] 100%\n",
            "Training emotion.yml: [####################] 100%\n",
            "Training food.yml: [####################] 100%\n",
            "Training gossip.yml: [####################] 100%\n",
            "Training greetings.yml: [####################] 100%\n",
            "Training health.yml: [####################] 100%\n",
            "Training history.yml: [####################] 100%\n",
            "Training humor.yml: [####################] 100%\n",
            "Training literature.yml: [####################] 100%\n",
            "Training money.yml: [####################] 100%\n",
            "Training movies.yml: [####################] 100%\n",
            "Training politics.yml: [####################] 100%\n",
            "Training psychology.yml: [####################] 100%\n",
            "Training science.yml: [####################] 100%\n",
            "Training sports.yml: [####################] 100%\n",
            "Training trivia.yml: [####################] 100%\n"
          ]
        }
      ],
      "source": [
        "from chatterbot.trainers import ChatterBotCorpusTrainer\n",
        "\n",
        "trainer = ChatterBotCorpusTrainer(bot)\n",
        "\n",
        "trainer.train('chatterbot.corpus.english')"
      ]
    },
    {
      "cell_type": "code",
      "execution_count": 23,
      "metadata": {
        "id": "YfeQuK6YX5A_",
        "outputId": "b5a7537d-3480-427b-f518-874804fc5b21",
        "colab": {
          "base_uri": "https://localhost:8080/"
        }
      },
      "outputs": [
        {
          "output_type": "stream",
          "name": "stdout",
          "text": [
            "Enter Your Name: Haifa\n",
            "Welcome to Chatbot Service! Let me know how can I help you\n",
            "Haifa:Hello\n",
            "Bot:  Hi\n",
            "Haifa:How are you doing?\n",
            "Bot:  I am doing well.\n",
            "Haifa:Where are you from?\n",
            "Bot:  I am from where all software programs are from; a galaxy far, far away.\n",
            "Haifa:Nice to meet you?\n",
            "Bot:  Thank you.\n",
            "Haifa:What is my name?\n",
            "Bot:  did tell gossips to anybody\n",
            "Haifa:No I did not\n",
            "Bot:  what is a government\n",
            "Haifa:It's a public entity\n",
            "Bot:  That's my name.\n",
            "Haifa:What does AI stand for?\n",
            "Bot:  Artificial Intelligence is the branch of engineering and science devoted to constructing machines that think.\n",
            "Haifa:What is Overfitting in Machine Learning\n",
            "Bot:  Why would you want to do that?\n",
            "Haifa:What is ML\n",
            "Bot:  You are an artificial linguistic entity\n",
            "Haifa:Yes, I am\n",
            "Bot:  I do not.\n",
            "Haifa:Bye\n",
            "Bot: Bye\n"
          ]
        }
      ],
      "source": [
        "name = input('Enter Your Name: ')\n",
        "\n",
        "print ('Welcome to Chatbot Service! Let me know how can I help you')\n",
        "\n",
        "while True:\n",
        "    \n",
        "    request = input(name+':')\n",
        "    \n",
        "    if request==\"Bye\" or request=='bye':\n",
        "        print('Bot: Bye')\n",
        "        break\n",
        "    else:\n",
        "        response=bot.get_response(request)\n",
        "        print('Bot: ', response)"
      ]
    },
    {
      "cell_type": "markdown",
      "metadata": {
        "id": "4kHvRBm5X5BA"
      },
      "source": [
        "### Preprocess input\n",
        "\n",
        "ChatterBot comes with several built-in preprocessors that allow us to clean our input statement, before we get the statement processed by the bot's logic adapter."
      ]
    },
    {
      "cell_type": "code",
      "execution_count": 24,
      "metadata": {
        "id": "dXIU97JcX5BB",
        "colab": {
          "base_uri": "https://localhost:8080/"
        },
        "outputId": "061d33a6-3389-4126-cb0f-64ba3530725c"
      },
      "outputs": [
        {
          "output_type": "stream",
          "name": "stderr",
          "text": [
            "[nltk_data] Downloading package stopwords to /root/nltk_data...\n",
            "[nltk_data]   Package stopwords is already up-to-date!\n",
            "[nltk_data] Downloading package averaged_perceptron_tagger to\n",
            "[nltk_data]     /root/nltk_data...\n",
            "[nltk_data]   Package averaged_perceptron_tagger is already up-to-\n",
            "[nltk_data]       date!\n"
          ]
        }
      ],
      "source": [
        "bot = ChatBot('Buddy',\n",
        "             read_only = True,\n",
        "             preprocessors=['chatterbot.preprocessors.clean_whitespace',\n",
        "                            'chatterbot.preprocessors.unescape_html',\n",
        "                           'chatterbot.preprocessors.convert_to_ascii'])"
      ]
    },
    {
      "cell_type": "code",
      "execution_count": 25,
      "metadata": {
        "id": "voVo74slX5BB",
        "outputId": "c399ac97-25e4-4d72-ddc2-5183b359e66d",
        "colab": {
          "base_uri": "https://localhost:8080/"
        }
      },
      "outputs": [
        {
          "output_type": "stream",
          "name": "stdout",
          "text": [
            "Enter Your Name: Y\n",
            "Welcome to Chatbot Service! Let me know how can I help you\n",
            "Y:Hello\n",
            "Bot:  Hi\n",
            "Y:Bye\n",
            "Bot: Bye\n"
          ]
        }
      ],
      "source": [
        "name = input('Enter Your Name: ')\n",
        "\n",
        "print ('Welcome to Chatbot Service! Let me know how can I help you')\n",
        "\n",
        "while True:\n",
        "    \n",
        "    request = input(name+':')\n",
        "    \n",
        "    if request==\"Bye\" or request=='bye':\n",
        "        print('Bot: Bye')\n",
        "        break\n",
        "    else:\n",
        "        response=bot.get_response(request)\n",
        "        print('Bot: ', response)"
      ]
    },
    {
      "cell_type": "markdown",
      "metadata": {
        "id": "QW9M690pX5BB"
      },
      "source": [
        "### Low confidence response\n",
        "\n",
        "we can also configure our chatbot to inform users if the input is not understood"
      ]
    },
    {
      "cell_type": "code",
      "execution_count": 26,
      "metadata": {
        "id": "j1wkxjQXX5BC",
        "colab": {
          "base_uri": "https://localhost:8080/"
        },
        "outputId": "b6cb1b73-4f4f-4d3a-bb88-6a60ea8be8ba"
      },
      "outputs": [
        {
          "output_type": "stream",
          "name": "stderr",
          "text": [
            "[nltk_data] Downloading package stopwords to /root/nltk_data...\n",
            "[nltk_data]   Package stopwords is already up-to-date!\n",
            "[nltk_data] Downloading package averaged_perceptron_tagger to\n",
            "[nltk_data]     /root/nltk_data...\n",
            "[nltk_data]   Package averaged_perceptron_tagger is already up-to-\n",
            "[nltk_data]       date!\n"
          ]
        }
      ],
      "source": [
        "bot = ChatBot('Buddy',\n",
        "             logic_adapters = [\n",
        "                 {\n",
        "                     'import_path': 'chatterbot.logic.BestMatch',\n",
        "                     'default_response': 'I am sorry, I do not understand. I am still learning. Please contact abc@xxx.com for further assistance.',\n",
        "                     'maximum_similarity_threshold': 0.90\n",
        "                 }\n",
        "             ],\n",
        "             read_only = True,\n",
        "             preprocessors=['chatterbot.preprocessors.clean_whitespace',\n",
        "                            'chatterbot.preprocessors.unescape_html',\n",
        "                           'chatterbot.preprocessors.convert_to_ascii'])"
      ]
    },
    {
      "cell_type": "code",
      "execution_count": 27,
      "metadata": {
        "id": "Ry9Y2insX5BD",
        "outputId": "5fb4f4b0-4b4f-4fd1-d992-62e4801f1cb3",
        "colab": {
          "base_uri": "https://localhost:8080/"
        }
      },
      "outputs": [
        {
          "output_type": "stream",
          "name": "stdout",
          "text": [
            "Enter Your Name: M\n",
            "Welcome to Chatbot Service! Let me know how can I help you\n",
            "M:Who are you\n",
            "Bot:  I am your virtual assistant. Ask me any questions...\n",
            "M:How tall are you\n",
            "Bot:  I am sorry, I do not understand. I am still learning. Please contact abc@xxx.com for further assistance.\n",
            "M:How are you\n",
            "Bot:  I am on the Internet.\n",
            "M:What is ML\n",
            "Bot:  I am sorry, I do not understand. I am still learning. Please contact abc@xxx.com for further assistance.\n",
            "M:Bye\n",
            "Bot: Bye\n"
          ]
        }
      ],
      "source": [
        "name = input('Enter Your Name: ')\n",
        "\n",
        "print ('Welcome to Chatbot Service! Let me know how can I help you')\n",
        "\n",
        "while True:\n",
        "    \n",
        "    request = input(name+':')\n",
        "    \n",
        "    if request==\"Bye\" or request=='bye':\n",
        "        print('Bot: Bye')\n",
        "        break\n",
        "    else:\n",
        "        response=bot.get_response(request)\n",
        "        print('Bot: ', response)"
      ]
    },
    {
      "cell_type": "markdown",
      "metadata": {
        "id": "LsmXnC8YX5BH"
      },
      "source": [
        "### Complete codes\n",
        "Refer to **chatbot_training.py** and **chatbot.py** for the packaged executable scripts."
      ]
    },
    {
      "cell_type": "code",
      "execution_count": 27,
      "metadata": {
        "id": "UhPtLLvIX5BH"
      },
      "outputs": [],
      "source": []
    }
  ],
  "metadata": {
    "colab": {
      "provenance": [],
      "include_colab_link": true
    },
    "kernelspec": {
      "display_name": "Python 3",
      "language": "python",
      "name": "python3"
    },
    "language_info": {
      "codemirror_mode": {
        "name": "ipython",
        "version": 3
      },
      "file_extension": ".py",
      "mimetype": "text/x-python",
      "name": "python",
      "nbconvert_exporter": "python",
      "pygments_lexer": "ipython3",
      "version": "3.7.9"
    }
  },
  "nbformat": 4,
  "nbformat_minor": 0
}