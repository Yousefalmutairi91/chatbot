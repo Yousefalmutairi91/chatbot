{
  "cells": [
    {
      "cell_type": "markdown",
      "metadata": {
        "id": "view-in-github",
        "colab_type": "text"
      },
      "source": [
        "<a href=\"https://colab.research.google.com/github/Yousefalmutairi91/chatbot/blob/main/Chatbot_Notebook.ipynb\" target=\"_parent\"><img src=\"https://colab.research.google.com/assets/colab-badge.svg\" alt=\"Open In Colab\"/></a>"
      ]
    },
    {
      "cell_type": "markdown",
      "metadata": {
        "id": "NfyuQXomX5Am"
      },
      "source": [
        "### Import Library"
      ]
    },
    {
      "cell_type": "code",
      "execution_count": null,
      "metadata": {
        "id": "nok50e3qYPdI"
      },
      "outputs": [],
      "source": [
        "!pip install chatterbot\n"
      ]
    },
    {
      "cell_type": "code",
      "execution_count": 16,
      "metadata": {
        "id": "sWpBuGjjX5Ax"
      },
      "outputs": [],
      "source": [
        " from chatterbot import ChatBot\n",
        " from chatterbot.trainers import ChatterBotCorpusTrainer\n",
        "#!pip install chatterbot-corpus\n"
      ]
    },
    {
      "cell_type": "markdown",
      "metadata": {
        "id": "TFzBfrV9X5Az"
      },
      "source": [
        "### Create a chatbot instance\n",
        "\n",
        "We will create a chatbot instance, name our bot as 'Buddy' and specify **read_only** to **True** because we only want our chatbot to learn from our training data."
      ]
    },
    {
      "cell_type": "code",
      "execution_count": null,
      "metadata": {
        "id": "LCit1BWsX5A1"
      },
      "outputs": [],
      "source": [
        "bot = ChatBot('Buddy', read_only = True)"
      ]
    },
    {
      "cell_type": "markdown",
      "metadata": {
        "id": "P-Lich_6X5A2"
      },
      "source": [
        "### Training the chatbot\n",
        "\n",
        "Import the **ListTrainer** module, instantiating it by passing the chatbot object (**Buddy**) and calling the **train()** method to pass a list of sentences."
      ]
    },
    {
      "cell_type": "code",
      "execution_count": 18,
      "metadata": {
        "id": "iwysYfjEX5A3"
      },
      "outputs": [],
      "source": [
        "from chatterbot.trainers import ListTrainer"
      ]
    },
    {
      "cell_type": "code",
      "execution_count": 19,
      "metadata": {
        "id": "-GFHh9McX5A3",
        "outputId": "d0e78f16-1420-428c-a108-97c9019db4a9",
        "colab": {
          "base_uri": "https://localhost:8080/"
        }
      },
      "outputs": [
        {
          "output_type": "stream",
          "name": "stdout",
          "text": [
            "\rList Trainer: [##                  ] 11%"
          ]
        },
        {
          "output_type": "stream",
          "name": "stderr",
          "text": [
            "/usr/local/lib/python3.8/dist-packages/chatterbot/corpus.py:38: YAMLLoadWarning: calling yaml.load() without Loader=... is deprecated, as the default Loader is unsafe. Please read https://msg.pyyaml.org/load for full details.\n",
            "  return yaml.load(data_file)\n"
          ]
        },
        {
          "output_type": "stream",
          "name": "stdout",
          "text": [
            "List Trainer: [####################] 100%\n",
            "List Trainer: [####################] 100%\n"
          ]
        }
      ],
      "source": [
        "trainer = ListTrainer(bot)\n",
        "\n",
        "trainer.train([\n",
        "    \"Hi, can I help you\",\n",
        "    \"Who are you?\",\n",
        "    \"I am your virtual assistant. Ask me any questions...\",\n",
        "    \"Where do you operate?\",\n",
        "    \"We operate from Singapore\",\n",
        "    \"What payment methods do you accept?\",\n",
        "    \"We accept debit cards and major credit cards\",\n",
        "    \"I would like to speak to your customer service agent\",\n",
        "    \"please call +65 3333 3333. Our operating hours are from 9am to 5pm, Monday to Friday\"\n",
        "    \n",
        "])\n",
        "\n",
        "trainer.train([\n",
        "    \"What payment methods do you offer?\",\n",
        "    \"We accept debit cards and major credit cards\",\n",
        "    \"How to contact customer service agent\",\n",
        "    \"please call +65 3333 3333. Our operating hours are from 9am to 5pm, Monday to Friday\"\n",
        "    \n",
        "])"
      ]
    },
    {
      "cell_type": "markdown",
      "metadata": {
        "id": "ruG4mRrmX5A5"
      },
      "source": [
        "### Chatbot testing\n",
        "\n",
        "Test chatbot out by feeding the chatbot with an input statement."
      ]
    },
    {
      "cell_type": "code",
      "execution_count": 20,
      "metadata": {
        "id": "I-TqGMd2X5A6",
        "outputId": "ebf9a4d4-d847-4079-946f-1b26bc1c6610",
        "colab": {
          "base_uri": "https://localhost:8080/"
        }
      },
      "outputs": [
        {
          "output_type": "stream",
          "name": "stdout",
          "text": [
            "We accept debit cards and major credit cards\n"
          ]
        }
      ],
      "source": [
        "response = bot.get_response ('payment method')\n",
        "print(response)"
      ]
    },
    {
      "cell_type": "markdown",
      "metadata": {
        "id": "BTZ-lhXfX5A7"
      },
      "source": [
        "We can also use **while loop** with **get_response()** method to get our chatbot to respond to each of our queries continuously. We put an end to the loop and stop the program when we get **'Bye'** or **'bye'** statement from the user."
      ]
    },
    {
      "cell_type": "code",
      "execution_count": null,
      "metadata": {
        "id": "gTfjgvbiX5A9"
      },
      "outputs": [],
      "source": [
        "name = input('Enter Your Name: ')\n",
        "\n",
        "print ('Welcome to Chatbot Service! Let me know how can I help you')\n",
        "\n",
        "while True:\n",
        "    \n",
        "    request = input(name+':')\n",
        "    \n",
        "    if request==\"Bye\" or request=='bye':\n",
        "        print('Bot: Bye')\n",
        "        break\n",
        "    else:\n",
        "        response=bot.get_response(request)\n",
        "        print('Bot: ', response)"
      ]
    },
    {
      "cell_type": "markdown",
      "metadata": {
        "id": "LzaXs3vCX5A-"
      },
      "source": [
        "### Corpus data training\n",
        "\n",
        "We can quickly train our chatbot to communicate using the availability of corpus data and utility module. Here we will use English corpus data to train our chatbot to communicate in English."
      ]
    },
    {
      "cell_type": "code",
      "execution_count": null,
      "metadata": {
        "id": "1Swsm9aRX5A_"
      },
      "outputs": [],
      "source": [
        "from chatterbot.trainers import ChatterBotCorpusTrainer\n",
        "\n",
        "trainer = ChatterBotCorpusTrainer(bot)\n",
        "\n",
        "trainer.train('chatterbot.corpus.english')"
      ]
    },
    {
      "cell_type": "code",
      "execution_count": null,
      "metadata": {
        "id": "YfeQuK6YX5A_"
      },
      "outputs": [],
      "source": [
        "name = input('Enter Your Name: ')\n",
        "\n",
        "print ('Welcome to Chatbot Service! Let me know how can I help you')\n",
        "\n",
        "while True:\n",
        "    \n",
        "    request = input(name+':')\n",
        "    \n",
        "    if request==\"Bye\" or request=='bye':\n",
        "        print('Bot: Bye')\n",
        "        break\n",
        "    else:\n",
        "        response=bot.get_response(request)\n",
        "        print('Bot: ', response)"
      ]
    },
    {
      "cell_type": "markdown",
      "metadata": {
        "id": "4kHvRBm5X5BA"
      },
      "source": [
        "### Preprocess input\n",
        "\n",
        "ChatterBot comes with several built-in preprocessors that allow us to clean our input statement, before we get the statement processed by the bot's logic adapter."
      ]
    },
    {
      "cell_type": "code",
      "execution_count": null,
      "metadata": {
        "id": "dXIU97JcX5BB"
      },
      "outputs": [],
      "source": [
        "bot = ChatBot('Buddy',\n",
        "             read_only = True,\n",
        "             preprocessors=['chatterbot.preprocessors.clean_whitespace',\n",
        "                            'chatterbot.preprocessors.unescape_html',\n",
        "                           'chatterbot.preprocessors.convert_to_ascii'])"
      ]
    },
    {
      "cell_type": "code",
      "execution_count": null,
      "metadata": {
        "id": "voVo74slX5BB"
      },
      "outputs": [],
      "source": [
        "name = input('Enter Your Name: ')\n",
        "\n",
        "print ('Welcome to Chatbot Service! Let me know how can I help you')\n",
        "\n",
        "while True:\n",
        "    \n",
        "    request = input(name+':')\n",
        "    \n",
        "    if request==\"Bye\" or request=='bye':\n",
        "        print('Bot: Bye')\n",
        "        break\n",
        "    else:\n",
        "        response=bot.get_response(request)\n",
        "        print('Bot: ', response)"
      ]
    },
    {
      "cell_type": "markdown",
      "metadata": {
        "id": "QW9M690pX5BB"
      },
      "source": [
        "### Low confidence response\n",
        "\n",
        "we can also configure our chatbot to inform users if the input is not understood"
      ]
    },
    {
      "cell_type": "code",
      "execution_count": null,
      "metadata": {
        "id": "j1wkxjQXX5BC"
      },
      "outputs": [],
      "source": [
        "bot = ChatBot('Buddy',\n",
        "             logic_adapters = [\n",
        "                 {\n",
        "                     'import_path': 'chatterbot.logic.BestMatch',\n",
        "                     'default_response': 'I am sorry, I do not understand. I am still learning. Please contact abc@xxx.com for further assistance.',\n",
        "                     'maximum_similarity_threshold': 0.90\n",
        "                 }\n",
        "             ],\n",
        "             read_only = True,\n",
        "             preprocessors=['chatterbot.preprocessors.clean_whitespace',\n",
        "                            'chatterbot.preprocessors.unescape_html',\n",
        "                           'chatterbot.preprocessors.convert_to_ascii'])"
      ]
    },
    {
      "cell_type": "code",
      "execution_count": null,
      "metadata": {
        "id": "Ry9Y2insX5BD"
      },
      "outputs": [],
      "source": [
        "name = input('Enter Your Name: ')\n",
        "\n",
        "print ('Welcome to Chatbot Service! Let me know how can I help you')\n",
        "\n",
        "while True:\n",
        "    \n",
        "    request = input(name+':')\n",
        "    \n",
        "    if request==\"Bye\" or request=='bye':\n",
        "        print('Bot: Bye')\n",
        "        break\n",
        "    else:\n",
        "        response=bot.get_response(request)\n",
        "        print('Bot: ', response)"
      ]
    },
    {
      "cell_type": "markdown",
      "metadata": {
        "id": "LsmXnC8YX5BH"
      },
      "source": [
        "### Complete codes\n",
        "Refer to **chatbot_training.py** and **chatbot.py** for the packaged executable scripts."
      ]
    },
    {
      "cell_type": "code",
      "execution_count": 27,
      "metadata": {
        "id": "UhPtLLvIX5BH"
      },
      "outputs": [],
      "source": []
    }
  ],
  "metadata": {
    "colab": {
      "provenance": [],
      "include_colab_link": true
    },
    "kernelspec": {
      "display_name": "Python 3",
      "language": "python",
      "name": "python3"
    },
    "language_info": {
      "codemirror_mode": {
        "name": "ipython",
        "version": 3
      },
      "file_extension": ".py",
      "mimetype": "text/x-python",
      "name": "python",
      "nbconvert_exporter": "python",
      "pygments_lexer": "ipython3",
      "version": "3.7.9"
    }
  },
  "nbformat": 4,
  "nbformat_minor": 0
}